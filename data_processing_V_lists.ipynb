{
 "cells": [
  {
   "cell_type": "code",
   "execution_count": null,
   "metadata": {
    "collapsed": true
   },
   "outputs": [],
   "source": [
    "import json \n",
    "import pandas as pd\n",
    "import numpy as np\n",
    "import time\n",
    "import itertools\n",
    "import os"
   ]
  },
  {
   "cell_type": "code",
   "execution_count": null,
   "metadata": {
    "collapsed": true
   },
   "outputs": [],
   "source": [
    "# importar varios jsons ('NO CORRER AUN')\n",
    "nombres = [i for i in os.listdir('./mpd.v1/data/') if i.endswith('.json')]\n",
    "\n",
    "data_lists = []\n",
    "for i in nombres:\n",
    "    data_lists.append(json.load(open('./mpd.v1/data/{}'.format(i))))"
   ]
  },
  {
   "cell_type": "code",
   "execution_count": null,
   "metadata": {
    "collapsed": true
   },
   "outputs": [],
   "source": [
    "data = json.load(open('./mpd.v1/data/mpd.slice.0-999.json'))\n",
    "data1 = json.load(open('./mpd.v1/data/mpd.slice.1000-1999.json'))\n",
    "data2 = json.load(open('./mpd.v1/data/mpd.slice.2000-2999.json'))\n",
    "\n",
    "jsons = [data, data1, data2]"
   ]
  },
  {
   "cell_type": "code",
   "execution_count": null,
   "metadata": {},
   "outputs": [],
   "source": [
    "# listas de listas de canciones \n",
    "listas = {}\n",
    "cont = 0 \n",
    "\n",
    "for i in range(0,1000):\n",
    "    for j in jsons:\n",
    "        spot = []\n",
    "        for x in j['playlists'][i]['tracks']:\n",
    "            cont+=1\n",
    "            spot.append(x['track_name'])\n",
    "\n",
    "            if cont == len(j['playlists'][i]['tracks']):\n",
    "                listas[j['playlists'][i]['pid']] = spot       \n",
    "                cont = 0 \n",
    "                spot = []\n"
   ]
  },
  {
   "cell_type": "code",
   "execution_count": null,
   "metadata": {},
   "outputs": [],
   "source": [
    "len(listas)"
   ]
  },
  {
   "cell_type": "code",
   "execution_count": null,
   "metadata": {},
   "outputs": [],
   "source": [
    "for y in listas[0]:\n",
    "    if y in listas[5]:\n",
    "        print('match found')"
   ]
  },
  {
   "cell_type": "code",
   "execution_count": null,
   "metadata": {},
   "outputs": [],
   "source": [
    "index = [i for i in range(0, len(listas))]\n",
    "\n",
    "result = []\n",
    "\n",
    "time1 = time.time()\n",
    "\n",
    "for p in index:\n",
    "    numero_actual = p\n",
    "    for i in listas[numero_actual]:\n",
    "        for x in [i for i in index if i != numero_actual]:\n",
    "            if i in listas[x]:\n",
    "                result.append([p,x])\n",
    "\n",
    "# quitamos duplicados\n",
    "result.sort()\n",
    "result = list(k for k,_ in itertools.groupby(result))\n",
    "print('tiempo demorado: {} segs'.format(time.time() - time1))"
   ]
  },
  {
   "cell_type": "code",
   "execution_count": null,
   "metadata": {},
   "outputs": [],
   "source": [
    "df_result = pd.DataFrame(result, columns=['Source', 'Target'])\n",
    "df_result.sample(5)"
   ]
  },
  {
   "cell_type": "code",
   "execution_count": null,
   "metadata": {
    "collapsed": true
   },
   "outputs": [],
   "source": [
    "df_result.to_csv('grafo_listas_spotify.csv', index=False, sep=';')"
   ]
  },
  {
   "cell_type": "markdown",
   "metadata": {
    "collapsed": true
   },
   "source": [
    "Label CSV "
   ]
  },
  {
   "cell_type": "code",
   "execution_count": null,
   "metadata": {
    "collapsed": true
   },
   "outputs": [],
   "source": [
    "labels = []\n",
    "\n",
    "for i in range(0,len(listas)):\n",
    "    labels.append([i,str(i)])"
   ]
  },
  {
   "cell_type": "code",
   "execution_count": null,
   "metadata": {
    "collapsed": true
   },
   "outputs": [],
   "source": [
    "df_labels = pd.DataFrame(labels, columns= ['id', 'label'])"
   ]
  },
  {
   "cell_type": "code",
   "execution_count": null,
   "metadata": {},
   "outputs": [],
   "source": [
    "df_labels.head()"
   ]
  },
  {
   "cell_type": "code",
   "execution_count": null,
   "metadata": {
    "collapsed": true
   },
   "outputs": [],
   "source": []
  }
 ],
 "metadata": {
  "kernelspec": {
   "display_name": "Python 3",
   "language": "python",
   "name": "python3"
  },
  "language_info": {
   "codemirror_mode": {
    "name": "ipython",
    "version": 3
   },
   "file_extension": ".py",
   "mimetype": "text/x-python",
   "name": "python",
   "nbconvert_exporter": "python",
   "pygments_lexer": "ipython3",
   "version": "3.6.1"
  }
 },
 "nbformat": 4,
 "nbformat_minor": 2
}
