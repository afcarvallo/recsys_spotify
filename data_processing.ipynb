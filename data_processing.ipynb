{
 "cells": [
  {
   "cell_type": "code",
   "execution_count": 23,
   "metadata": {
    "collapsed": true
   },
   "outputs": [],
   "source": [
    "import json \n",
    "import pandas as pd\n",
    "import numpy as np\n",
    "import time\n",
    "from scipy.sparse import dok_matrix\n",
    "import itertools\n",
    "from sklearn import preprocessing"
   ]
  },
  {
   "cell_type": "code",
   "execution_count": 83,
   "metadata": {},
   "outputs": [],
   "source": [
    "data = json.load(open('./mpd.v1/data/mpd.slice.0-999.json'))\n",
    "\n",
    "n_listas = 70"
   ]
  },
  {
   "cell_type": "code",
   "execution_count": 84,
   "metadata": {
    "collapsed": true
   },
   "outputs": [],
   "source": [
    "lists_data = []\n",
    "\n",
    "for i in range(0,n_listas):\n",
    "    for x in data['playlists'][i]['tracks']:\n",
    "        lists_data.append([data['playlists'][i]['name'],data['playlists'][i]['num_albums'], data['playlists'][i]['num_artists'],data['playlists'][i]['num_followers'],data['playlists'][i]['num_tracks'], data['playlists'][i]['pid'], x['pos'], x['artist_name'], x['track_name'], x['duration_ms'], x['album_name']])\n",
    "\n",
    "df = pd.DataFrame(lists_data, columns = ['play_list_name', 'num_albums', 'num_artists', 'num_followers', 'num_tracks', 'pid', 'song_pos', 'song_artist', 'song_name', 'song_duration', 'song_album'])"
   ]
  },
  {
   "cell_type": "code",
   "execution_count": 85,
   "metadata": {},
   "outputs": [
    {
     "data": {
      "text/html": [
       "<div>\n",
       "<style>\n",
       "    .dataframe thead tr:only-child th {\n",
       "        text-align: right;\n",
       "    }\n",
       "\n",
       "    .dataframe thead th {\n",
       "        text-align: left;\n",
       "    }\n",
       "\n",
       "    .dataframe tbody tr th {\n",
       "        vertical-align: top;\n",
       "    }\n",
       "</style>\n",
       "<table border=\"1\" class=\"dataframe\">\n",
       "  <thead>\n",
       "    <tr style=\"text-align: right;\">\n",
       "      <th></th>\n",
       "      <th>play_list_name</th>\n",
       "      <th>num_albums</th>\n",
       "      <th>num_artists</th>\n",
       "      <th>num_followers</th>\n",
       "      <th>num_tracks</th>\n",
       "      <th>pid</th>\n",
       "      <th>song_pos</th>\n",
       "      <th>song_artist</th>\n",
       "      <th>song_name</th>\n",
       "      <th>song_duration</th>\n",
       "      <th>song_album</th>\n",
       "    </tr>\n",
       "  </thead>\n",
       "  <tbody>\n",
       "    <tr>\n",
       "      <th>0</th>\n",
       "      <td>Throwbacks</td>\n",
       "      <td>47</td>\n",
       "      <td>37</td>\n",
       "      <td>1</td>\n",
       "      <td>52</td>\n",
       "      <td>0</td>\n",
       "      <td>0</td>\n",
       "      <td>Missy Elliott</td>\n",
       "      <td>Lose Control (feat. Ciara &amp; Fat Man Scoop)</td>\n",
       "      <td>226863</td>\n",
       "      <td>The Cookbook</td>\n",
       "    </tr>\n",
       "    <tr>\n",
       "      <th>1</th>\n",
       "      <td>Throwbacks</td>\n",
       "      <td>47</td>\n",
       "      <td>37</td>\n",
       "      <td>1</td>\n",
       "      <td>52</td>\n",
       "      <td>0</td>\n",
       "      <td>1</td>\n",
       "      <td>Britney Spears</td>\n",
       "      <td>Toxic</td>\n",
       "      <td>198800</td>\n",
       "      <td>In The Zone</td>\n",
       "    </tr>\n",
       "    <tr>\n",
       "      <th>2</th>\n",
       "      <td>Throwbacks</td>\n",
       "      <td>47</td>\n",
       "      <td>37</td>\n",
       "      <td>1</td>\n",
       "      <td>52</td>\n",
       "      <td>0</td>\n",
       "      <td>2</td>\n",
       "      <td>Beyoncé</td>\n",
       "      <td>Crazy In Love</td>\n",
       "      <td>235933</td>\n",
       "      <td>Dangerously In Love (Alben für die Ewigkeit)</td>\n",
       "    </tr>\n",
       "    <tr>\n",
       "      <th>3</th>\n",
       "      <td>Throwbacks</td>\n",
       "      <td>47</td>\n",
       "      <td>37</td>\n",
       "      <td>1</td>\n",
       "      <td>52</td>\n",
       "      <td>0</td>\n",
       "      <td>3</td>\n",
       "      <td>Justin Timberlake</td>\n",
       "      <td>Rock Your Body</td>\n",
       "      <td>267266</td>\n",
       "      <td>Justified</td>\n",
       "    </tr>\n",
       "    <tr>\n",
       "      <th>4</th>\n",
       "      <td>Throwbacks</td>\n",
       "      <td>47</td>\n",
       "      <td>37</td>\n",
       "      <td>1</td>\n",
       "      <td>52</td>\n",
       "      <td>0</td>\n",
       "      <td>4</td>\n",
       "      <td>Shaggy</td>\n",
       "      <td>It Wasn't Me</td>\n",
       "      <td>227600</td>\n",
       "      <td>Hot Shot</td>\n",
       "    </tr>\n",
       "  </tbody>\n",
       "</table>\n",
       "</div>"
      ],
      "text/plain": [
       "  play_list_name  num_albums  num_artists  num_followers  num_tracks  pid  \\\n",
       "0     Throwbacks          47           37              1          52    0   \n",
       "1     Throwbacks          47           37              1          52    0   \n",
       "2     Throwbacks          47           37              1          52    0   \n",
       "3     Throwbacks          47           37              1          52    0   \n",
       "4     Throwbacks          47           37              1          52    0   \n",
       "\n",
       "   song_pos        song_artist                                   song_name  \\\n",
       "0         0      Missy Elliott  Lose Control (feat. Ciara & Fat Man Scoop)   \n",
       "1         1     Britney Spears                                       Toxic   \n",
       "2         2            Beyoncé                               Crazy In Love   \n",
       "3         3  Justin Timberlake                              Rock Your Body   \n",
       "4         4             Shaggy                                It Wasn't Me   \n",
       "\n",
       "   song_duration                                    song_album  \n",
       "0         226863                                  The Cookbook  \n",
       "1         198800                                   In The Zone  \n",
       "2         235933  Dangerously In Love (Alben für die Ewigkeit)  \n",
       "3         267266                                     Justified  \n",
       "4         227600                                      Hot Shot  "
      ]
     },
     "execution_count": 85,
     "metadata": {},
     "output_type": "execute_result"
    }
   ],
   "source": [
    "df.head()"
   ]
  },
  {
   "cell_type": "code",
   "execution_count": 86,
   "metadata": {},
   "outputs": [],
   "source": [
    "# listas de listas de canciones \n",
    "listas = {}\n",
    "cont = 0 \n",
    "\n",
    "for i in range(0,n_listas):\n",
    "    spot = []\n",
    "    for x in data['playlists'][i]['tracks']:\n",
    "        cont+=1\n",
    "        spot.append(x['track_name'])\n",
    "\n",
    "        if cont == len(data['playlists'][i]['tracks']):\n",
    "            listas[data['playlists'][i]['pid']] = spot       \n",
    "            cont = 0 \n",
    "            spot = []\n"
   ]
  },
  {
   "cell_type": "code",
   "execution_count": 87,
   "metadata": {},
   "outputs": [
    {
     "name": "stdout",
     "output_type": "stream",
     "text": [
      "70\n",
      "3526\n"
     ]
    }
   ],
   "source": [
    "print(len(df.pid.unique()))\n",
    "print(len(df.song_name.unique()))"
   ]
  },
  {
   "cell_type": "code",
   "execution_count": 88,
   "metadata": {},
   "outputs": [
    {
     "name": "stdout",
     "output_type": "stream",
     "text": [
      "tiempo demorado: 523.9549491405487 segs\n"
     ]
    }
   ],
   "source": [
    "inicio = time.time()\n",
    "\n",
    "songs_unique = df.song_name.unique()\n",
    "\n",
    "#le = preprocessing.LabelEncoder()\n",
    "#enc_songs = le.fit(songs_unique)\n",
    "#size = len(le.classes_)\n",
    "#matriz = dok_matrix((size,size))\n",
    "\n",
    "pid_unique = df.pid.unique()\n",
    "\n",
    "ejes = []\n",
    "\n",
    "for (i,j) in itertools.combinations(songs_unique,2):\n",
    "    for k in pid_unique:\n",
    "        if j in listas[k] and i in listas[k] and i!=j:\n",
    "            ejes.append([i,j])\n",
    "               \n",
    "fin = time.time()\n",
    "\n",
    "print('tiempo demorado: {} segs'.format(fin - inicio))"
   ]
  },
  {
   "cell_type": "code",
   "execution_count": 79,
   "metadata": {},
   "outputs": [],
   "source": [
    "df_result = pd.DataFrame(ejes, columns = ['Target', 'Source'])\n",
    "\n",
    "df_result.to_csv('spotify_song_graph.csv', sep=';', index=False)"
   ]
  },
  {
   "cell_type": "code",
   "execution_count": 82,
   "metadata": {},
   "outputs": [],
   "source": [
    "graph_labels = []\n",
    "\n",
    "for x in songs_unique:\n",
    "    graph_labels.append([x,x])\n",
    "\n",
    "df_labels = pd.DataFrame(graph_labels, columns = ['id', 'label'])\n",
    "\n",
    "df_labels.to_csv('song_graph_labels.csv', sep=';', index=False)\n"
   ]
  },
  {
   "cell_type": "code",
   "execution_count": null,
   "metadata": {},
   "outputs": [],
   "source": []
  },
  {
   "cell_type": "code",
   "execution_count": null,
   "metadata": {
    "collapsed": true
   },
   "outputs": [],
   "source": []
  }
 ],
 "metadata": {
  "kernelspec": {
   "display_name": "Python 3",
   "language": "python",
   "name": "python3"
  },
  "language_info": {
   "codemirror_mode": {
    "name": "ipython",
    "version": 3
   },
   "file_extension": ".py",
   "mimetype": "text/x-python",
   "name": "python",
   "nbconvert_exporter": "python",
   "pygments_lexer": "ipython3",
   "version": "3.6.1"
  }
 },
 "nbformat": 4,
 "nbformat_minor": 2
}
