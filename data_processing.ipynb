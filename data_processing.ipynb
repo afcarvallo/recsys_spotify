{
 "cells": [
  {
   "cell_type": "code",
   "execution_count": 1,
   "metadata": {
    "collapsed": true
   },
   "outputs": [],
   "source": [
    "import json \n",
    "import pandas as pd\n",
    "import numpy as np\n",
    "import time\n",
    "from scipy.sparse import dok_matrix\n",
    "import itertools\n",
    "from sklearn import preprocessing\n",
    "import os"
   ]
  },
  {
   "cell_type": "code",
   "execution_count": 2,
   "metadata": {
    "collapsed": true
   },
   "outputs": [],
   "source": [
    "# importar varios json \n",
    "nombres = [i for i in os.listdir('./mpd.v1/data/') if i.endswith('.json')]\n",
    "\n",
    "data_various = []\n",
    "for i in nombres:\n",
    "    data_various.append(json.load(open('./mpd.v1/data/{}'.format(i))))"
   ]
  },
  {
   "cell_type": "code",
   "execution_count": 3,
   "metadata": {
    "collapsed": true
   },
   "outputs": [],
   "source": [
    "data = json.load(open('./mpd.v1/data/mpd.slice.0-999.json'))\n",
    "\n",
    "n_listas = 1000"
   ]
  },
  {
   "cell_type": "code",
   "execution_count": 4,
   "metadata": {
    "collapsed": true
   },
   "outputs": [],
   "source": [
    "lists_data = []\n",
    "\n",
    "for i in range(0,n_listas):\n",
    "    for x in data['playlists'][i]['tracks']:\n",
    "        lists_data.append([data['playlists'][i]['name'],data['playlists'][i]['num_albums'], data['playlists'][i]['num_artists'],data['playlists'][i]['num_followers'],data['playlists'][i]['num_tracks'], data['playlists'][i]['pid'], x['pos'], x['artist_name'], x['track_name'], x['duration_ms'], x['album_name']])\n",
    "\n",
    "df = pd.DataFrame(lists_data, columns = ['play_list_name', 'num_albums', 'num_artists', 'num_followers', 'num_tracks', 'pid', 'song_pos', 'song_artist', 'song_name', 'song_duration', 'song_album'])"
   ]
  },
  {
   "cell_type": "code",
   "execution_count": 5,
   "metadata": {},
   "outputs": [
    {
     "data": {
      "text/html": [
       "<div>\n",
       "<style>\n",
       "    .dataframe thead tr:only-child th {\n",
       "        text-align: right;\n",
       "    }\n",
       "\n",
       "    .dataframe thead th {\n",
       "        text-align: left;\n",
       "    }\n",
       "\n",
       "    .dataframe tbody tr th {\n",
       "        vertical-align: top;\n",
       "    }\n",
       "</style>\n",
       "<table border=\"1\" class=\"dataframe\">\n",
       "  <thead>\n",
       "    <tr style=\"text-align: right;\">\n",
       "      <th></th>\n",
       "      <th>play_list_name</th>\n",
       "      <th>num_albums</th>\n",
       "      <th>num_artists</th>\n",
       "      <th>num_followers</th>\n",
       "      <th>num_tracks</th>\n",
       "      <th>pid</th>\n",
       "      <th>song_pos</th>\n",
       "      <th>song_artist</th>\n",
       "      <th>song_name</th>\n",
       "      <th>song_duration</th>\n",
       "      <th>song_album</th>\n",
       "    </tr>\n",
       "  </thead>\n",
       "  <tbody>\n",
       "    <tr>\n",
       "      <th>0</th>\n",
       "      <td>Throwbacks</td>\n",
       "      <td>47</td>\n",
       "      <td>37</td>\n",
       "      <td>1</td>\n",
       "      <td>52</td>\n",
       "      <td>0</td>\n",
       "      <td>0</td>\n",
       "      <td>Missy Elliott</td>\n",
       "      <td>Lose Control (feat. Ciara &amp; Fat Man Scoop)</td>\n",
       "      <td>226863</td>\n",
       "      <td>The Cookbook</td>\n",
       "    </tr>\n",
       "    <tr>\n",
       "      <th>1</th>\n",
       "      <td>Throwbacks</td>\n",
       "      <td>47</td>\n",
       "      <td>37</td>\n",
       "      <td>1</td>\n",
       "      <td>52</td>\n",
       "      <td>0</td>\n",
       "      <td>1</td>\n",
       "      <td>Britney Spears</td>\n",
       "      <td>Toxic</td>\n",
       "      <td>198800</td>\n",
       "      <td>In The Zone</td>\n",
       "    </tr>\n",
       "    <tr>\n",
       "      <th>2</th>\n",
       "      <td>Throwbacks</td>\n",
       "      <td>47</td>\n",
       "      <td>37</td>\n",
       "      <td>1</td>\n",
       "      <td>52</td>\n",
       "      <td>0</td>\n",
       "      <td>2</td>\n",
       "      <td>Beyoncé</td>\n",
       "      <td>Crazy In Love</td>\n",
       "      <td>235933</td>\n",
       "      <td>Dangerously In Love (Alben für die Ewigkeit)</td>\n",
       "    </tr>\n",
       "    <tr>\n",
       "      <th>3</th>\n",
       "      <td>Throwbacks</td>\n",
       "      <td>47</td>\n",
       "      <td>37</td>\n",
       "      <td>1</td>\n",
       "      <td>52</td>\n",
       "      <td>0</td>\n",
       "      <td>3</td>\n",
       "      <td>Justin Timberlake</td>\n",
       "      <td>Rock Your Body</td>\n",
       "      <td>267266</td>\n",
       "      <td>Justified</td>\n",
       "    </tr>\n",
       "    <tr>\n",
       "      <th>4</th>\n",
       "      <td>Throwbacks</td>\n",
       "      <td>47</td>\n",
       "      <td>37</td>\n",
       "      <td>1</td>\n",
       "      <td>52</td>\n",
       "      <td>0</td>\n",
       "      <td>4</td>\n",
       "      <td>Shaggy</td>\n",
       "      <td>It Wasn't Me</td>\n",
       "      <td>227600</td>\n",
       "      <td>Hot Shot</td>\n",
       "    </tr>\n",
       "  </tbody>\n",
       "</table>\n",
       "</div>"
      ],
      "text/plain": [
       "  play_list_name  num_albums  num_artists  num_followers  num_tracks  pid  \\\n",
       "0     Throwbacks          47           37              1          52    0   \n",
       "1     Throwbacks          47           37              1          52    0   \n",
       "2     Throwbacks          47           37              1          52    0   \n",
       "3     Throwbacks          47           37              1          52    0   \n",
       "4     Throwbacks          47           37              1          52    0   \n",
       "\n",
       "   song_pos        song_artist                                   song_name  \\\n",
       "0         0      Missy Elliott  Lose Control (feat. Ciara & Fat Man Scoop)   \n",
       "1         1     Britney Spears                                       Toxic   \n",
       "2         2            Beyoncé                               Crazy In Love   \n",
       "3         3  Justin Timberlake                              Rock Your Body   \n",
       "4         4             Shaggy                                It Wasn't Me   \n",
       "\n",
       "   song_duration                                    song_album  \n",
       "0         226863                                  The Cookbook  \n",
       "1         198800                                   In The Zone  \n",
       "2         235933  Dangerously In Love (Alben für die Ewigkeit)  \n",
       "3         267266                                     Justified  \n",
       "4         227600                                      Hot Shot  "
      ]
     },
     "execution_count": 5,
     "metadata": {},
     "output_type": "execute_result"
    }
   ],
   "source": [
    "df.head()"
   ]
  },
  {
   "cell_type": "code",
   "execution_count": 7,
   "metadata": {},
   "outputs": [],
   "source": [
    "# listas de listas de canciones \n",
    "listas = {}\n",
    "cont = 0 \n",
    "\n",
    "song_index = {}\n",
    "index_song = {}\n",
    "cont_song = 0\n",
    "\n",
    "# cambiar 'l' a \"data\" y quitar esta iteracion si queremos hacerlo con 1 json  \n",
    "for l in data_various[0:1]:\n",
    "    for i in range(0,n_listas):\n",
    "\n",
    "        listas[l['playlists'][i]['pid']] = [x['track_name'] for x in l['playlists'][i]['tracks']]\n",
    "        for x in listas[l['playlists'][i]['pid']]:\n",
    "            if not x in song_index:\n",
    "                song_index[x] = cont_song\n",
    "                index_song[cont_song] = x\n",
    "                cont_song += 1\n"
   ]
  },
  {
   "cell_type": "code",
   "execution_count": 8,
   "metadata": {},
   "outputs": [
    {
     "data": {
      "text/plain": [
       "30172"
      ]
     },
     "execution_count": 8,
     "metadata": {},
     "output_type": "execute_result"
    }
   ],
   "source": [
    "len(song_index)"
   ]
  },
  {
   "cell_type": "code",
   "execution_count": null,
   "metadata": {},
   "outputs": [],
   "source": [
    "inicio = time.time()\n",
    "size = len(song_index)\n",
    "\n",
    "matriz = dok_matrix((size,size),dtype='uint')\n",
    "\n",
    "for lista in listas:\n",
    "    for (i,j) in itertools.combinations(listas[lista],2):\n",
    "        if i!=j:\n",
    "            matriz[song_index[i],song_index[j]] += 1\n",
    "               \n",
    "fin = time.time()\n",
    "\n",
    "print('tiempo demorado: {} segs'.format(fin - inicio))"
   ]
  },
  {
   "cell_type": "code",
   "execution_count": 19,
   "metadata": {},
   "outputs": [
    {
     "name": "stdout",
     "output_type": "stream",
     "text": [
      "tiempo demorado: 86.57010507583618 segs\n"
     ]
    }
   ],
   "source": [
    "now = time.time()\n",
    "result = matriz.toarray()\n",
    "pos = np.where(result > 10)\n",
    "\n",
    "print('tiempo demorado: {} segs'.format(time.time() - now))"
   ]
  },
  {
   "cell_type": "code",
   "execution_count": 20,
   "metadata": {
    "collapsed": true
   },
   "outputs": [],
   "source": [
    "pairs = []\n",
    "in_pair = set()\n",
    "for x,y in zip(pos[0], pos[1]):\n",
    "    pairs.append([x,y,result[x,y]])\n",
    "    in_pair.add(x)\n",
    "    in_pair.add(y)"
   ]
  },
  {
   "cell_type": "code",
   "execution_count": 21,
   "metadata": {
    "collapsed": true
   },
   "outputs": [],
   "source": [
    "pd.DataFrame(pairs, columns = ['Source','Target', 'Weight']).to_csv('spotify_graph.csv', sep=';', index= False)"
   ]
  },
  {
   "cell_type": "code",
   "execution_count": 22,
   "metadata": {
    "collapsed": true
   },
   "outputs": [],
   "source": [
    "pairs_2 = [[x,index_song[x]] for x in in_pair]"
   ]
  },
  {
   "cell_type": "code",
   "execution_count": 23,
   "metadata": {
    "collapsed": true
   },
   "outputs": [],
   "source": [
    "pd.DataFrame(pairs_2, columns = ['id', 'label']).to_csv('spotify_labels.csv', sep=';', index=False)"
   ]
  },
  {
   "cell_type": "code",
   "execution_count": null,
   "metadata": {
    "collapsed": true
   },
   "outputs": [],
   "source": []
  }
 ],
 "metadata": {
  "kernelspec": {
   "display_name": "Python 3",
   "language": "python",
   "name": "python3"
  },
  "language_info": {
   "codemirror_mode": {
    "name": "ipython",
    "version": 3
   },
   "file_extension": ".py",
   "mimetype": "text/x-python",
   "name": "python",
   "nbconvert_exporter": "python",
   "pygments_lexer": "ipython3",
   "version": "3.6.1"
  }
 },
 "nbformat": 4,
 "nbformat_minor": 2
}
