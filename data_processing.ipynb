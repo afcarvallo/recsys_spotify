{
 "cells": [
  {
   "cell_type": "code",
   "execution_count": 1,
   "metadata": {
    "collapsed": true
   },
   "outputs": [],
   "source": [
    "import json \n",
    "import pandas as pd\n",
    "import numpy as np\n",
    "import time\n",
    "from scipy.sparse import dok_matrix\n",
    "import itertools\n",
    "from sklearn import preprocessing\n",
    "import os"
   ]
  },
  {
   "cell_type": "code",
   "execution_count": 33,
   "metadata": {
    "collapsed": true
   },
   "outputs": [],
   "source": [
    "# importar varios json \n",
    "nombres = [i for i in os.listdir('./mpd.v1/data/') if i.endswith('.json')]\n",
    "\n",
    "data_various = []\n",
    "for i in nombres:\n",
    "    data_various.append(json.load(open('./mpd.v1/data/{}'.format(i))))"
   ]
  },
  {
   "cell_type": "code",
   "execution_count": 34,
   "metadata": {
    "collapsed": true
   },
   "outputs": [],
   "source": [
    "#elegir cuantos json (c/u tiene 1000 listas)\n",
    "n_json = 10"
   ]
  },
  {
   "cell_type": "code",
   "execution_count": 35,
   "metadata": {},
   "outputs": [],
   "source": [
    "# listas de listas de canciones \n",
    "listas = {}\n",
    "cont = 0 \n",
    "\n",
    "song_index = {}\n",
    "index_song = {}\n",
    "cont_song = 0\n",
    "\n",
    "# cambiar 'l' a \"data\" y quitar esta iteracion si queremos hacerlo con 1 json  \n",
    "for l in data_various[:n_json]:\n",
    "    for i in range(1000):\n",
    "\n",
    "        listas[l['playlists'][i]['pid']] = [x['track_name'] for x in l['playlists'][i]['tracks']]\n",
    "        for x in listas[l['playlists'][i]['pid']]:\n",
    "            if not x in song_index:\n",
    "                song_index[x] = cont_song\n",
    "                index_song[cont_song] = x\n",
    "                cont_song += 1\n"
   ]
  },
  {
   "cell_type": "code",
   "execution_count": 36,
   "metadata": {},
   "outputs": [
    {
     "data": {
      "text/plain": [
       "132920"
      ]
     },
     "execution_count": 36,
     "metadata": {},
     "output_type": "execute_result"
    }
   ],
   "source": [
    "len(song_index)"
   ]
  },
  {
   "cell_type": "code",
   "execution_count": null,
   "metadata": {},
   "outputs": [],
   "source": [
    "inicio = time.time()\n",
    "size = len(song_index)\n",
    "\n",
    "matriz = dok_matrix((size,size),dtype='uint')\n",
    "\n",
    "for lista in listas:\n",
    "    for (i,j) in itertools.combinations(listas[lista],2):\n",
    "        if i!=j:\n",
    "            matriz[song_index[i],song_index[j]] += 1\n",
    "               \n",
    "fin = time.time()\n",
    "\n",
    "print('tiempo demorado: {} segs'.format(fin - inicio))"
   ]
  },
  {
   "cell_type": "code",
   "execution_count": null,
   "metadata": {},
   "outputs": [],
   "source": [
    "# threshold del weight\n",
    "threshold = 10"
   ]
  },
  {
   "cell_type": "code",
   "execution_count": null,
   "metadata": {},
   "outputs": [],
   "source": [
    "now = time.time()\n",
    "pairs = []\n",
    "in_pair = set()\n",
    "for x,y in matriz.keys():\n",
    "    if matriz[(x,y)] > threshold:\n",
    "        pairs.append([x,y,matriz[(x,y)]])\n",
    "        in_pair.add(x)\n",
    "        in_pair.add(y)\n",
    "\n",
    "print('tiempo demorado: {} segs'.format(time.time() - now))"
   ]
  },
  {
   "cell_type": "code",
   "execution_count": null,
   "metadata": {
    "collapsed": true
   },
   "outputs": [],
   "source": [
    "pd.DataFrame(pairs, columns = ['Source','Target', 'Weight']).to_csv('spotify_graph.csv', sep=';', index= False)"
   ]
  },
  {
   "cell_type": "code",
   "execution_count": null,
   "metadata": {
    "collapsed": true
   },
   "outputs": [],
   "source": [
    "pairs_2 = [[x,index_song[x]] for x in in_pair]"
   ]
  },
  {
   "cell_type": "code",
   "execution_count": null,
   "metadata": {
    "collapsed": true
   },
   "outputs": [],
   "source": [
    "pd.DataFrame(pairs_2, columns = ['id', 'label']).to_csv('spotify_labels.csv', sep=';', index=False)"
   ]
  },
  {
   "cell_type": "code",
   "execution_count": null,
   "metadata": {
    "collapsed": true
   },
   "outputs": [],
   "source": []
  }
 ],
 "metadata": {
  "kernelspec": {
   "display_name": "Python 3",
   "language": "python",
   "name": "python3"
  },
  "language_info": {
   "codemirror_mode": {
    "name": "ipython",
    "version": 3
   },
   "file_extension": ".py",
   "mimetype": "text/x-python",
   "name": "python",
   "nbconvert_exporter": "python",
   "pygments_lexer": "ipython3",
   "version": "3.6.1"
  }
 },
 "nbformat": 4,
 "nbformat_minor": 2
}
